{
 "cells": [
  {
   "cell_type": "code",
   "execution_count": null,
   "metadata": {},
   "outputs": [],
   "source": [
    "import os\n",
    "import oracledb\n",
    "import sys\n",
    "import pandas as pd #libreria de python para manipular datos\n",
    "print(os.path.dirname(sys.executable))"
   ]
  },
  {
   "cell_type": "code",
   "execution_count": null,
   "metadata": {},
   "outputs": [],
   "source": [
    "#BSCS MODULOS\n",
    "def ConectarBD():\n",
    "    un = 'user'\n",
    "    pw = 'clave'\n",
    "    cs = 'host:1850/bd'\n",
    "    oracledb.init_oracle_client()\n",
    "\n",
    "    try:\n",
    "        with oracledb.connect(user=un, password=pw, dsn=cs) as connection:\n",
    "            print(\"Conectado\")\n",
    "            with connection.cursor() as cursor:\n",
    "                sql = \"\"\"SELECT BASE DE DATOS\"\"\"\n",
    "                print(\"Conectado\")\n",
    "                result=pd.read_sql_query(sql, con=connection)\n",
    "                return result\n",
    "    except:\n",
    "        result = pd.DataFrame()\n",
    "        print(\"Falla en la conexion\")\n",
    "        return result\n"
   ]
  },
  {
   "cell_type": "code",
   "execution_count": null,
   "metadata": {},
   "outputs": [],
   "source": [
    "#AGENDAMIENTO\n",
    "def ConectarAgendamiento():\n",
    "    un = 'user'\n",
    "    pw = 'clave'\n",
    "    cs = 'host:1850/bd'\n",
    "    oracledb.init_oracle_client()\n",
    "\n",
    "    try:\n",
    "        with oracledb.connect(user=un, password=pw, dsn=cs) as connection:\n",
    "            print(\"Conectado\")\n",
    "            with connection.cursor() as cursor:\n",
    "                sql = \"\"\"SELECT BASE DE DATOS\"\"\"\n",
    "                print(\"Conectado\")\n",
    "                result=pd.read_sql_query(sql, con=connection)\n",
    "                return result\n",
    "    except:\n",
    "        result = pd.DataFrame()\n",
    "        print(\"Falla en la conexion\")\n",
    "        return result"
   ]
  },
  {
   "cell_type": "code",
   "execution_count": null,
   "metadata": {},
   "outputs": [],
   "source": [
    "#AC\n",
    "def ConectarAC():\n",
    "    un = 'user'\n",
    "    pw = 'clave'\n",
    "    cs = 'host:1850/bd'\n",
    "    oracledb.init_oracle_client()\n",
    "\n",
    "    try:\n",
    "        with oracledb.connect(user=un, password=pw, dsn=cs) as connection:\n",
    "            print(\"Conectado\")\n",
    "            with connection.cursor() as cursor:\n",
    "                sql = \"\"\"SELECT BASE DE DATOS\"\"\"\n",
    "                print(\"Conectado\")\n",
    "                result=pd.read_sql_query(sql, con=connection)\n",
    "                return result\n",
    "    except:\n",
    "        result = pd.DataFrame()\n",
    "        print(\"Falla en la conexion\")\n",
    "        return result"
   ]
  },
  {
   "cell_type": "code",
   "execution_count": null,
   "metadata": {},
   "outputs": [],
   "source": [
    "#POLIEDRO\n",
    "def ConectarP():\n",
    "    un = 'user'\n",
    "    pw = 'clave'\n",
    "    cs = 'host:1850/bd'\n",
    "    oracledb.init_oracle_client()\n",
    "    try:\n",
    "        with oracledb.connect(user=un, password=pw, dsn=cs) as connection:\n",
    "            print(\"Conectado\")\n",
    "            with connection.cursor() as cursor:\n",
    "                sql = \"\"\"SELECT BASE DE DATOS\"\"\"\n",
    "                print(\"Exitosamente\")\n",
    "                result=pd.read_sql_query(sql, con=connection)\n",
    "                return result\n",
    "    except:\n",
    "        result = pd.DataFrame()\n",
    "\n",
    "        print(\"Falla en la conexión\")\n",
    "        return result\n"
   ]
  },
  {
   "cell_type": "code",
   "execution_count": null,
   "metadata": {},
   "outputs": [],
   "source": [
    "def ConectarM():\n",
    "    un = 'user'\n",
    "    pw = 'clave'\n",
    "    cs = 'host:1850/bd'\n",
    "    \n",
    "    try:\n",
    "        # Establecer la conexión con encoding utf-8\n",
    "        connection = oracledb.connect(user=un, password=pw, dsn=cs, encoding=\"UTF-8-SIG\")\n",
    "        print(\"Conectado\")\n",
    "        \n",
    "        with connection.cursor() as cursor:\n",
    "            sql = \"\"\"SELECT BASE DE DATOS\"\"\"\n",
    "            print(\"Exitosamente\")\n",
    "            result=pd.read_sql_query(sql, con=connection)\n",
    "            result=result[['CORPORATE_ID','REMEDY_LOGIN_ID','FIRST_NAME',  'MIDDLE_INITIAL',  'LAST_NAME', 'PROFILE_STATUS']]\n",
    "            \n",
    "            return result\n",
    "\n",
    "    except:\n",
    "        result = pd.DataFrame()\n",
    "        print(\"Falla en la conexión\")\n",
    "        return result\n",
    "\n"
   ]
  }
 ],
 "metadata": {
  "kernelspec": {
   "display_name": "Python 3",
   "language": "python",
   "name": "python3"
  },
  "language_info": {
   "codemirror_mode": {
    "name": "ipython",
    "version": 3
   },
   "file_extension": ".py",
   "mimetype": "text/x-python",
   "name": "python",
   "nbconvert_exporter": "python",
   "pygments_lexer": "ipython3",
   "version": "3.11.1"
  },
  "orig_nbformat": 4,
  "vscode": {
   "interpreter": {
    "hash": "bab93407023da92fecc0d42af32359b73fde05971fc756dcf35991659248e545"
   }
  }
 },
 "nbformat": 4,
 "nbformat_minor": 2
}
